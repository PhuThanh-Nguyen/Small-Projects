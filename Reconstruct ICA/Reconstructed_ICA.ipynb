{
  "nbformat": 4,
  "nbformat_minor": 0,
  "metadata": {
    "colab": {
      "name": "Reconstructed ICA.ipynb",
      "provenance": [],
      "collapsed_sections": []
    },
    "kernelspec": {
      "name": "python3",
      "display_name": "Python 3"
    },
    "language_info": {
      "name": "python"
    },
    "accelerator": "GPU"
  },
  "cells": [
    {
      "cell_type": "code",
      "metadata": {
        "id": "QrXNJdnu2499"
      },
      "source": [
        "import tensorflow as tf\n",
        "import keras\n",
        "import numpy as np\n",
        "from matplotlib import pyplot as plt"
      ],
      "execution_count": 1,
      "outputs": []
    },
    {
      "cell_type": "code",
      "metadata": {
        "id": "ALN1UlKb3EAa",
        "colab": {
          "base_uri": "https://localhost:8080/"
        },
        "outputId": "ee8f0c58-95b9-4c9e-845b-47c7bf236da3"
      },
      "source": [
        "(X_train, y_train), (X_test, y_test) = tf.keras.datasets.mnist.load_data()\n",
        "X_train = (X_train[0].astype(np.float32)/255.0).copy()"
      ],
      "execution_count": 2,
      "outputs": [
        {
          "output_type": "stream",
          "text": [
            "Downloading data from https://storage.googleapis.com/tensorflow/tf-keras-datasets/mnist.npz\n",
            "11493376/11490434 [==============================] - 0s 0us/step\n"
          ],
          "name": "stdout"
        }
      ]
    },
    {
      "cell_type": "code",
      "metadata": {
        "colab": {
          "base_uri": "https://localhost:8080/",
          "height": 252
        },
        "id": "5Fkr8NTe3WhV",
        "outputId": "7a21dfb7-5b10-4967-b5e6-d493b47bb699"
      },
      "source": [
        "fig, ax = plt.subplots()\n",
        "ax.imshow(X_train, cmap = plt.cm.gray)\n",
        "_ = ax.set(xticks = [], yticks = [])"
      ],
      "execution_count": 3,
      "outputs": [
        {
          "output_type": "display_data",
          "data": {
            "image/png": "[encoded data removed]",
            "text/plain": [
              "<Figure size 432x288 with 1 Axes>"
            ]
          },
          "metadata": {
            "tags": []
          }
        }
      ]
    },
    {
      "cell_type": "code",
      "metadata": {
        "id": "z3Vpe6RP3hAJ"
      },
      "source": [
        "def getBatches(X, batch_size = 10):\n",
        "    '''\n",
        "        Generates batches from input, each batch has the same size (mostly)\n",
        "        Parameters:\n",
        "            X: tensor of size (n_samples, n_features)\n",
        "                Input data\n",
        "            batch_size: int, default: 10\n",
        "                Size of each batch generated from X (if batch_size divides number of samples evenly)\n",
        "        Returns: None\n",
        "    '''\n",
        "    sample_size = X.shape[0]\n",
        "\n",
        "    for i in range(0, sample_size, batch_size):\n",
        "        batch_X = X[i:(i+batch_size), :]\n",
        "        yield batch_X\n",
        "class RICA:\n",
        "    def __init__(self, input_shape, encoder_shape):\n",
        "        '''\n",
        "            RICA instances initialization.\n",
        "            Parameters:\n",
        "                input_shape: int\n",
        "                encoder_shape: int\n",
        "                    Encoder shape, usually encoder shape < input_shape\n",
        "        '''\n",
        "        self.input_shape, self.encoder_shape = input_shape, encoder_shape\n",
        "        self.W = tf.Variable(\n",
        "            initial_value = tf.random.normal(shape = (self.encoder_shape, self.input_shape), seed = 0),\n",
        "            trainable = True\n",
        "        )\n",
        "    def fit(self, X, epochs, batch_size = 1, learning_rate = 0.01, regularization = 0.1, epsilon = 1e-3, random_state = 0):\n",
        "        '''\n",
        "            Update parameter W of RICA.\n",
        "            Parameters:\n",
        "                X: tensor-like of shape (n_samples, input_shape)\n",
        "                    Input data, each row is an observation\n",
        "                epochs: int\n",
        "                    Number of epochs\n",
        "                batch_size: int, default 1\n",
        "                    If batch_size == 1 -> Perform SGD update on W\n",
        "                    If 1 < batch_size < n_samples -> Perform Mini Batch SGD on W\n",
        "                    If batch_size == n_samples -> Perform Batch GD on W\n",
        "                learning_rate: float, default: 0.01\n",
        "                    Controls how fast to go down the opposite direction of the gradient\n",
        "                    The larger/smaller learning_rate the more unstable/slower it is for W to converge\n",
        "                regularization: float, default: 0.1\n",
        "                    Regularization on encoder vector in l_1 norm\n",
        "                    When regularization parameter is large, it means encoder vector will be sparsed\n",
        "                epsilon: float, default: 1e-3\n",
        "                    Approximation of l_1 norm: ||x|| = \\sqrt{x^2 + epsilon}.\n",
        "                    The smaller epsilon the more accurate for the approximation\n",
        "                random_state: int, default 0\n",
        "                    Random state for reproducibility\n",
        "            Returns: None\n",
        "        '''\n",
        "        tf.random.set_seed(random_state)\n",
        "        X = tf.constant(X, dtype = tf.dtypes.float32)\n",
        "        for epoch in range(epochs):\n",
        "            if batch_size != X.shape[0]:\n",
        "                X = tf.random.shuffle(X)\n",
        "            for batch_X in getBatches(X, batch_size = batch_size):\n",
        "                if batch_size == 1:\n",
        "                    batch_X = tf.reshape(batch_X, (-1, 1))\n",
        "                else:\n",
        "                    batch_X = tf.transpose(batch_X)\n",
        "                with tf.GradientTape() as tape:\n",
        "                    # Forward pass\n",
        "                    encoder = tf.matmul(self.W, batch_X)\n",
        "                    reconstruct = tf.matmul(tf.transpose(self.W), encoder)\n",
        "                    reconstruction_loss = tf.reduce_sum(tf.pow(reconstruct - batch_X, 2))\n",
        "                    regularization_loss = regularization * tf.sqrt(tf.pow(tf.reduce_sum(encoder), 2) + epsilon)\n",
        "                    loss = reconstruction_loss + 1/2 * regularization_loss\n",
        "                # Calculate gradient of loss w.r.t W\n",
        "                gradient = tape.gradient(loss, self.W)\n",
        "                # Update W\n",
        "                self.W.assign(self.W - learning_rate * gradient)\n",
        "        return None\n",
        "    def reconstruct(self, X):\n",
        "        '''\n",
        "            Reconstruct input after encoding.\n",
        "            Parameters:\n",
        "                X: tensor-like of shape (n_samples, input_shape)\n",
        "                    Input data\n",
        "            Returns: numpy.ndarray of shape (n_samples, input_shape)\n",
        "        '''\n",
        "        X = tf.constant(X, dtype = tf.dtypes.float32)\n",
        "        reconstruct_X = []\n",
        "        for row in X:\n",
        "            r = tf.reshape(row, (-1, 1))\n",
        "            encoder = tf.matmul(self.W, r)\n",
        "            reconstruct = tf.matmul(tf.transpose(self.W), encoder)\n",
        "            # reconstruct vector is a column vector -> transform it into row vector\n",
        "            reconstruct_X.append(tf.reshape(reconstruct, (1, -1)))\n",
        "        reconstruct_X = tf.concat(reconstruct_X, axis = 0).numpy()\n",
        "        return reconstruct_X\n",
        "    def reconstruct_encoder(self, encoder):\n",
        "        '''\n",
        "            Reconstruct input from encoder\n",
        "            Parameters:\n",
        "                encoder: tensor-like of shape (n_samples, encoder_shape)\n",
        "                    A set of encoders\n",
        "            Returns: numpy.ndarray of shape (n_samples, input_shape)\n",
        "        '''\n",
        "        X = tf.constant(encoder, dtype = tf.dtypes.float32)\n",
        "        reconstruct_X = []\n",
        "        for row in X:\n",
        "            r = tf.reshape(row, (-1, 1))\n",
        "            reconstruct = tf.matmul(tf.transpose(self.W), r)\n",
        "            reconstruct_X.append(tf.reshape(reconstruct, (1, -1)))\n",
        "        reconstruct_X = tf.concat(reconstruct_X, axis = 0).numpy()\n",
        "        return reconstruct_X\n",
        "    def encode(self, X):\n",
        "        '''\n",
        "            Encoding input.\n",
        "            Parameters:\n",
        "                X: tensor-like of shape (n_samples, input_shape)\n",
        "                    Input data\n",
        "            Returns: numpy.ndarray of shape (n_samples, encode_shape)\n",
        "        '''\n",
        "        X = tf.constant(X, dtype = tf.dtypes.float32)\n",
        "        encode_X = []\n",
        "        for row in X:\n",
        "            r = tf.reshape(row, (-1, 1))\n",
        "            encoder = tf.matmul(self.W, r)\n",
        "            encode_X.append(tf.reshape(encoder, (1, -1)))\n",
        "        encode_X = tf.concat(encode_X, axis = 0).numpy()\n",
        "        return encode_X"
      ],
      "execution_count": 4,
      "outputs": []
    },
    {
      "cell_type": "code",
      "metadata": {
        "id": "h-hwBIYL9IVY"
      },
      "source": [
        "rica = RICA(input_shape = 28, encoder_shape = 18)\n",
        "rica.fit(X_train, epochs = 10000, batch_size = 28, learning_rate = 1e-4, regularization = 100, epsilon = 1e-6)"
      ],
      "execution_count": 5,
      "outputs": []
    },
    {
      "cell_type": "code",
      "metadata": {
        "id": "cRMcATnM-X0R"
      },
      "source": [
        "reconstruct_X = rica.reconstruct(X_train)"
      ],
      "execution_count": 6,
      "outputs": []
    },
    {
      "cell_type": "code",
      "metadata": {
        "colab": {
          "base_uri": "https://localhost:8080/",
          "height": 304
        },
        "id": "IxPuuxKy_6Es",
        "outputId": "3c5cc811-ef9d-4d6d-a453-a23e085b956c"
      },
      "source": [
        "fig, axes = plt.subplots(nrows = 1, ncols = 2, figsize = (10, 8))\n",
        "axes[0].imshow(X_train, cmap = plt.cm.gray)\n",
        "axes[1].imshow(reconstruct_X, cmap = plt.cm.gray)\n",
        "\n",
        "for i, name in enumerate(('Original', 'Reconstruct')):\n",
        "    axes[i].set(title = name, xticks = [], yticks = [])"
      ],
      "execution_count": 7,
      "outputs": [
        {
          "output_type": "display_data",
          "data": {
            "image/png": "[encoded data removed]",
            "text/plain": [
              "<Figure size 720x576 with 2 Axes>"
            ]
          },
          "metadata": {
            "tags": []
          }
        }
      ]
    },
    {
      "cell_type": "code",
      "metadata": {
        "id": "KG0m2RlbBTS0"
      },
      "source": [
        "encode = rica.encode(X_train)"
      ],
      "execution_count": 8,
      "outputs": []
    },
    {
      "cell_type": "code",
      "metadata": {
        "colab": {
          "base_uri": "https://localhost:8080/"
        },
        "id": "dfRgeKIxxM7U",
        "outputId": "4c20771b-902a-4601-f808-e1d612e2ba6e"
      },
      "source": [
        "encode[0, :]"
      ],
      "execution_count": 9,
      "outputs": [
        {
          "output_type": "execute_result",
          "data": {
            "text/plain": [
              "array([0., 0., 0., 0., 0., 0., 0., 0., 0., 0., 0., 0., 0., 0., 0., 0., 0.,\n",
              "       0.], dtype=float32)"
            ]
          },
          "metadata": {
            "tags": []
          },
          "execution_count": 9
        }
      ]
    },
    {
      "cell_type": "code",
      "metadata": {
        "colab": {
          "base_uri": "https://localhost:8080/"
        },
        "id": "0xOw1EATx4p_",
        "outputId": "ad23b5da-6111-4570-bee6-040b006a38dd"
      },
      "source": [
        "encode[10, :]"
      ],
      "execution_count": 10,
      "outputs": [
        {
          "output_type": "execute_result",
          "data": {
            "text/plain": [
              "array([-0.22836556, -0.1591149 , -0.29303712,  0.14101395,  0.40173262,\n",
              "        0.4261232 ,  0.07427137, -0.17444286,  0.23605718, -0.40132892,\n",
              "        0.06379274, -0.10920692, -0.36369395, -0.01880916, -0.11485276,\n",
              "       -0.43693444, -0.31106305,  0.04926693], dtype=float32)"
            ]
          },
          "metadata": {
            "tags": []
          },
          "execution_count": 10
        }
      ]
    },
    {
      "cell_type": "code",
      "metadata": {
        "id": "c4pSI6kryxYJ"
      },
      "source": [
        "reconstruct = rica.reconstruct_encoder(encode)"
      ],
      "execution_count": 11,
      "outputs": []
    },
    {
      "cell_type": "code",
      "metadata": {
        "colab": {
          "base_uri": "https://localhost:8080/",
          "height": 252
        },
        "id": "928Cj1ryzEo6",
        "outputId": "5509b943-aacc-4522-acaf-ee8952b67d4c"
      },
      "source": [
        "fig, ax = plt.subplots()\n",
        "ax.imshow(reconstruct, cmap = plt.cm.gray)\n",
        "_ = ax.set(xticks = [], yticks = [])"
      ],
      "execution_count": 12,
      "outputs": [
        {
          "output_type": "display_data",
          "data": {
            "image/png": "[encoded data removed]",
            "text/plain": [
              "<Figure size 432x288 with 1 Axes>"
            ]
          },
          "metadata": {
            "tags": []
          }
        }
      ]
    },
    {
      "cell_type": "code",
      "metadata": {
        "id": "YX7P6eqezNQz"
      },
      "source": [
        ""
      ],
      "execution_count": 12,
      "outputs": []
    }
  ]
}